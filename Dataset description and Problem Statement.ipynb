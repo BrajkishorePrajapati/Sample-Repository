{
 "cells": [
  {
   "cell_type": "markdown",
   "metadata": {},
   "source": [
    "## Objective: To demonstrate structured format of Performing Exploratory data Analysis.\n"
   ]
  },
  {
   "cell_type": "markdown",
   "metadata": {},
   "source": [
    "## Overview:\n",
    "1. Introduction to problem statement\n",
    "\n",
    "2. Hypothesis generation with respect to problem statement\n",
    "\n",
    "3. Introduction to dataset\n",
    "\n",
    "4. Importing dataset and first impressions\n",
    "\n",
    "5. Variable Identification and Typecasting\n",
    "\n",
    "6. Univariate Analysis:\n",
    "\n",
    "    6.1 Numerical Variables\n",
    "\n",
    "    6.2 Categorical Variables\n",
    "\n",
    "    6.3 Missing Values\n",
    "\n",
    "    6.4 Summary of Univariate Analysis\n",
    "    \n",
    "7. Bivariate Analysis and Hypothesis Testing\n",
    "\n",
    "    7.1"
   ]
  },
  {
   "cell_type": "markdown",
   "metadata": {
    "id": "e9mGxzDF5Cl9"
   },
   "source": [
    "## 1. Introduction to problem statement:\n",
    "Your client is a large MNC and they have 9 broad verticals across the organisation. One of the problem your client is facing is around identifying the right people for promotion (only for manager position and below) and prepare them in time. Currently the process, they are following is:\n",
    "\n",
    "They first identify a set of employees based on recommendations/ past performance\n",
    "Selected employees go through the separate training and evaluation program for each vertical. These programs are based on the required skill of each vertical\n",
    "At the end of the program, based on various factors such as training performance, KPI completion (only employees with KPIs completed greater than 60% are considered) etc., employee gets promotion\n",
    "For above mentioned process, the final promotions are only announced after the evaluation and this leads to delay in transition to their new roles. Hence, company needs your help in identifying the eligible candidates at a particular checkpoint so that they can expedite the entire promotion cycle.\n",
    "\n",
    "<img src=\"https://s3-ap-south-1.amazonaws.com/av-blog-media/wp-content/uploads/2018/09/wns_hack_im_1.jpg\">\n",
    "\n",
    "They Will provided multiple attributes around Employee's past and current performance along with demographics as per your demand. Now, The task is to predict whether a potential promotee at checkpoint in the test set will be promoted or not after the evaluation process."
   ]
  },
  {
   "cell_type": "markdown",
   "metadata": {},
   "source": [
    "## 2. Hypothesis Generation for the problem statement:\n",
    "**Hypothesis generation is about preparing an exhaustive list of questions or possibilities which directly or indirectly affect the problem statement or the target variable. It is a very important step as it prevents us from going down for a wild goose chase during EDA. \n",
    "\n",
    "**This step is performed before looking/gathering dataset**\n",
    "\n",
    "To generate hypothesis, we require the following:\n",
    "1. Common Sense or Rationality\n",
    "2. Domain knowledge if possible\n",
    "3. Communication with domain experts\n",
    "\n",
    "Given below are the hypothesis I could think of considering the problem statement\n",
    "\n",
    "1. Age might an efffect on promotion.\n",
    "2. Gender of the employee could have an effect on promotion.\n",
    "3. Is the employee at lower rank more frequently promoted?\n",
    "4. Are employees with dependent(s) frequently promoted?\n",
    "5. Are employees with long service record more likely to be promoted?\n",
    "6. Are employees with more industrial certifications more likely to be promoted?\n",
    "7. Do metro cities have any effect on promotion rates?\n",
    "8. Are some deparments observing more promotion rates than others?\n",
    "9. Do referrals or employees who are hired through referrals more likely to be promoted?\n",
    "10. Does the performance rating from previous years carry over to the promotions of the current year?"
   ]
  },
  {
   "cell_type": "markdown",
   "metadata": {},
   "source": [
    "## 3. Introduction to Dataset\n",
    "\n",
    "\n",
    "| Variable             \t| Definition                                                                             \t|\n",
    "|----------------------\t|----------------------------------------------------------------------------------------\t|\n",
    "| employee_id          \t| Unique ID for employee                                                                 \t|\n",
    "| department           \t| Department of employee                                                                 \t|\n",
    "| region               \t| Region of employment (unordered)                                                       \t|\n",
    "| education            \t| Education Level                                                                        \t|\n",
    "| gender               \t| Gender of Employee                                                                     \t|\n",
    "| recruitment_channel  \t| Channel of recruitment for employee                                                    \t|\n",
    "| no_of_trainings      \t| no of other trainings completed in previous year on soft skills, technical skills etc. \t|\n",
    "| age                  \t| Age of Employee                                                                        \t|\n",
    "| previous_year_rating \t| Employee Rating for the previous year                                                  \t|\n",
    "| length_of_service    \t| Length of service in years                                                             \t|\n",
    "| KPIs_met >80%        \t| if Percent of KPIs(Key performance Indicators) >80% then 1 else 0                      \t|\n",
    "| awards_won?          \t| if awards won during previous year then 1 else 0                                       \t|\n",
    "| avg_training_score   \t| Average score in current training evaluations                                          \t|\n",
    "| is_promoted          \t| (Target) Recommended for promotion                                                     \t|"
   ]
  }
 ],
 "metadata": {
  "kernelspec": {
   "display_name": "Python 3.8.2 64-bit",
   "language": "python",
   "name": "python38264bit9589832d391047eea4b9c8b58815489b"
  },
  "language_info": {
   "codemirror_mode": {
    "name": "ipython",
    "version": 3
   },
   "file_extension": ".py",
   "mimetype": "text/x-python",
   "name": "python",
   "nbconvert_exporter": "python",
   "pygments_lexer": "ipython3",
   "version": "3.8.2-final"
  }
 },
 "nbformat": 4,
 "nbformat_minor": 1
}